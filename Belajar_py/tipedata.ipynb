{
 "cells": [
  {
   "cell_type": "code",
   "execution_count": 15,
   "id": "22f6b5bb",
   "metadata": {},
   "outputs": [
    {
     "name": "stdout",
     "output_type": "stream",
     "text": [
      "nama saya adalah  Marcel Immanuel umurnya 19 , Dengan tinggi badan 17.5cm\n"
     ]
    }
   ],
   "source": [
    "nama = \"Marcel Immanuel\"\n",
    "umur = 19\n",
    "tinggi_badan = 17.5\n",
    "\n",
    "print(f\"nama saya adalah  {nama} umurnya {umur} , Dengan tinggi badan {tinggi_badan}cm\")"
   ]
  }
 ],
 "metadata": {
  "kernelspec": {
   "display_name": "Python 3",
   "language": "python",
   "name": "python3"
  },
  "language_info": {
   "codemirror_mode": {
    "name": "ipython",
    "version": 3
   },
   "file_extension": ".py",
   "mimetype": "text/x-python",
   "name": "python",
   "nbconvert_exporter": "python",
   "pygments_lexer": "ipython3",
   "version": "3.12.3"
  }
 },
 "nbformat": 4,
 "nbformat_minor": 5
}
