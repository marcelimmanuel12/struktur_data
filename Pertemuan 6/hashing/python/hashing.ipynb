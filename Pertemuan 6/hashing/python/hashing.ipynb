{
 "cells": [
  {
   "cell_type": "code",
   "execution_count": null,
   "id": "6f7faa17",
   "metadata": {},
   "outputs": [],
   "source": [
    "class PwdMan:\n",
    "    def __init__(self):\n",
    "        self.storedHash = None\n",
    "    \n",
    "    def simple_hash(self, password):\n",
    "        hash_value = 0\n",
    "        for ch in password :\n",
    "            hash_value += ord(ch)\n",
    "        return hash_value % 100\n",
    "    \n",
    "    def set_password(self, password):\n",
    "        self.storedHash = self.simple_hash(password)\n",
    "        print(\"password has been set\")\n",
    "\n",
    "    def verify_password(self, input_password):\n",
    "        return self.storedHash == self.simple_hash(input_password)\n",
    "    \n",
    "Pass_Man = PwdMan()\n",
    "password = input(\"enter password : \")\n",
    "Pass_Man.set_password(password)\n",
    "\n",
    "input_password = input(\"enter password to verify : \")\n",
    "if Pass_Man.verify_password(input_password):\n",
    "    print(\"correct\")\n",
    "else:\n",
    "    print(\"incorrect\")"
   ]
  }
 ],
 "metadata": {
  "kernelspec": {
   "display_name": "Python 3",
   "language": "python",
   "name": "python3"
  },
  "language_info": {
   "name": "python",
   "version": "3.12.3"
  }
 },
 "nbformat": 4,
 "nbformat_minor": 5
}
