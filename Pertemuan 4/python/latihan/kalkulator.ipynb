{
 "cells": [
  {
   "cell_type": "code",
   "execution_count": 5,
   "id": "627e75de",
   "metadata": {},
   "outputs": [
    {
     "name": "stdout",
     "output_type": "stream",
     "text": [
      "Penjumlahan: 12\n",
      "Pengurangan: 8\n",
      "Perkalian  : 20\n",
      "Pembagian  : 5.0\n"
     ]
    }
   ],
   "source": [
    "def kalkulator(a, b):\n",
    "    print(\"Penjumlahan:\", a + b)\n",
    "    print(\"Pengurangan:\", a - b)\n",
    "    print(\"Perkalian  :\", a * b)\n",
    "    print(\"Pembagian  :\", a / b)\n",
    "kalkulator (10, 2)"
   ]
  },
  {
   "cell_type": "code",
   "execution_count": 3,
   "id": "c01989bf",
   "metadata": {},
   "outputs": [
    {
     "name": "stdout",
     "output_type": "stream",
     "text": [
      "Penjumlahan: 12\n",
      "Pengurangan: 8\n",
      "Perkalian  : 20\n",
      "Pembagian  : 5.0\n"
     ]
    }
   ],
   "source": [
    "a = 10\n",
    "b = 2\n",
    "print(\"Penjumlahan:\", a + b)\n",
    "print(\"Pengurangan:\", a - b)\n",
    "print(\"Perkalian  :\", a * b)\n",
    "print(\"Pembagian  :\", a / b)"
   ]
  }
 ],
 "metadata": {
  "kernelspec": {
   "display_name": "Python 3",
   "language": "python",
   "name": "python3"
  },
  "language_info": {
   "codemirror_mode": {
    "name": "ipython",
    "version": 3
   },
   "file_extension": ".py",
   "mimetype": "text/x-python",
   "name": "python",
   "nbconvert_exporter": "python",
   "pygments_lexer": "ipython3",
   "version": "3.12.3"
  }
 },
 "nbformat": 4,
 "nbformat_minor": 5
}
